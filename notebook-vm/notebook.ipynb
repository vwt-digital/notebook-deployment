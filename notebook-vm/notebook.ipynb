{
 "cells": [
  {
   "cell_type": "code",
   "execution_count": null,
   "metadata": {},
   "outputs": [],
   "source": [
    "from google.cloud import storage\n",
    "import pandas as pd\n",
    "from io import BytesIO\n"
   ]
  },
  {
   "cell_type": "code",
   "execution_count": null,
   "metadata": {},
   "outputs": [],
   "source": [
    "def excel_blob_to_excel_file(blob):\n",
    "    string = blob.download_as_string()\n",
    "    return pd.ExcelFile(BytesIO(string))\n",
    "\n",
    "def excel_blob_to_df(blob, sheet):\n",
    "    return excel_blob_to_excel_file(blob).parse(sheet)\n",
    "    \n",
    "\n",
    "def csv_blob_to_df(blob, sep=\",\"):\n",
    "    string = blob.download_as_string()\n",
    "    return pd.read_csv(BytesIO(string), sep=sep)     "
   ]
  },
  {
   "cell_type": "code",
   "execution_count": null,
   "metadata": {},
   "outputs": [],
   "source": [
    "client = storage.Client()\n",
    "print(\"Client created using default project: {}\".format(client.project))\n",
    "bucket_name = \"your-project-data-stg\""
   ]
  },
  {
   "cell_type": "code",
   "execution_count": null,
   "metadata": {},
   "outputs": [],
   "source": [
    "bucket = client.get_bucket(bucket_name)\n",
    "blobs = bucket.list_blobs()\n",
    "\n",
    "print(f\"Blobs in {bucket_name}\")\n",
    "for blob in blobs:\n",
    "    print(f\"\\t{blob.name}\")\n"
   ]
  }
 ],
 "metadata": {
  "environment": {
   "name": "common-cpu.m48",
   "type": "gcloud",
   "uri": "gcr.io/deeplearning-platform-release/base-cpu:m48"
  },
  "kernelspec": {
   "display_name": "Python 3",
   "language": "python",
   "name": "python3"
  },
  "language_info": {
   "codemirror_mode": {
    "name": "ipython",
    "version": 3
   },
   "file_extension": ".py",
   "mimetype": "text/x-python",
   "name": "python",
   "nbconvert_exporter": "python",
   "pygments_lexer": "ipython3",
   "version": "3.7.6"
  }
 },
 "nbformat": 4,
 "nbformat_minor": 4
}
